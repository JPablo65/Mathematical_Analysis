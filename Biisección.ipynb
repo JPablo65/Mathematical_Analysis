{
 "cells": [
  {
   "cell_type": "markdown",
   "id": "81640b24-d5a9-4f67-8dee-32cde25e99e9",
   "metadata": {},
   "source": [
    "# Lets program the bisection method\n",
    "#### The link for the math part https://www.youtube.com/watch?v=Hwg7e-ZwsmQ&ab_channel=AlejandroMart%C3%ADnezIreneo"
   ]
  },
  {
   "cell_type": "markdown",
   "id": "b006ba04-bdbd-4678-9ab1-9d7b876fbc3f",
   "metadata": {},
   "source": [
    "#### Libraries"
   ]
  },
  {
   "cell_type": "code",
   "execution_count": null,
   "id": "feaa7303-38d9-4fd4-9743-02378b17bd4d",
   "metadata": {},
   "outputs": [],
   "source": [
    "from math import exp, sin, cos\n",
    "import ipywidgets as widgets \n",
    "import matplotlib.pyplot as plt\n",
    "import time\n",
    "import numpy as np"
   ]
  },
  {
   "cell_type": "markdown",
   "id": "b99a455b-ade0-4777-900a-42a1163869fe",
   "metadata": {},
   "source": [
    "#### Recursive == Elegant "
   ]
  },
  {
   "cell_type": "code",
   "execution_count": null,
   "id": "1cd54c21-9dfd-4160-9fb9-775d298f4f67",
   "metadata": {},
   "outputs": [],
   "source": [
    "def calculate(f, lst, xa, xb):\n",
    "    y = lambda x: eval(f)  # Create a mathematical function for evaluation\n",
    "    xr = (xa + xb) / 2  # Calculate the midpoint between the two given points\n",
    "    if abs(y(xa) + y(xb)) / 2 > 10**(-15):\n",
    "        if y(xa) * y(xr) < 0:\n",
    "            xb = xr\n",
    "        else:  # Determine which side to work with\n",
    "            xa = xr\n",
    "        lst.append(xr)  # Add it to a list for plotting later\n",
    "        return calculate(f, lst, xa, xb)  # The recursive part\n",
    "    else:\n",
    "        lst.append(xr)\n",
    "        return lst  # Once finished, return the list with the result"
   ]
  },
  {
   "cell_type": "markdown",
   "id": "117c9c7f-4ff3-4b5d-927a-4f45a6cf8b3d",
   "metadata": {},
   "source": [
    "#### This is only for the graph"
   ]
  },
  {
   "cell_type": "code",
   "execution_count": null,
   "id": "9cf37e54-062b-47a6-ad1b-c26a2dfaae02",
   "metadata": {},
   "outputs": [],
   "source": [
    "def graph(f, with_graph=35, xa=-1, xb=1):  # Pass these parameters to make it interactive\n",
    "    if f != 'exit()':\n",
    "        plt.figure(figsize=(10, 10))  # A figure of appropriate size\n",
    "\n",
    "        y = lambda x: eval(f)\n",
    "        x_i = np.array([i * (0.1) for i in range(-with_graph, with_graph)])  # To plot the function\n",
    "        y_i = [y(i) for i in x_i]  # Using a numpy array for efficiency\n",
    "\n",
    "        plt.plot(x_i, [0] * len(x_i), linestyle='--', color='gray')\n",
    "        plt.plot(x_i, y_i, color='green')  # Plot it\n",
    "\n",
    "        xa = float(xa)\n",
    "        xb = float(xb)  # The interval we need\n",
    "\n",
    "        if xa != xb:\n",
    "            plt.plot([xa] * 2, [min(y_i), max(y_i)], linestyle='--', color='gray')\n",
    "            plt.plot([xb] * 2, [min(y_i), max(y_i)], linestyle='--', color='gray')\n",
    "\n",
    "            lst = [xa, xb]\n",
    "            answer = calculate(f, lst, xa, xb)  # Have a list prepared for plotting\n",
    "\n",
    "            plt.text(-with_graph / 10, max(y_i), 'The answer is: ' + str(answer[-1]), fontsize=12)  # Print the answer\n",
    "            plt.scatter(answer, [y(i) for i in answer])\n",
    "            plt.scatter(answer[-1], y(answer[-1]))  # Plot the points we approximated because it's nice\n",
    "        plt.title('Finding the root of the function: ' + str(f))\n",
    "\n",
    "        plt.show()  # Show the plot\n",
    "    else:\n",
    "        exit()\n"
   ]
  },
  {
   "cell_type": "markdown",
   "id": "8a0f7bd1-8709-47a3-adb0-6cbf56d108d8",
   "metadata": {},
   "source": [
    "#### The main function to control everything"
   ]
  },
  {
   "cell_type": "code",
   "execution_count": null,
   "id": "15ab34e8-2b70-4ddd-baa2-3f3497637c90",
   "metadata": {},
   "outputs": [],
   "source": [
    "if __name__ == '__main__':\n",
    "    start = time.time()  # Start a timer to measure code efficiency\n",
    "\n",
    "    print('Insert the function, remember to use ** for exponentiation, and use math. (don\\'t forget the parentheses)')  # Some instructions\n",
    "    widgets.interact(graph, f='sin(x)-x', with_graph=(0, 500, 5), xa='0', xb='0')  # Call the function to create the interactive graph\n",
    "    ''' f(x) = sin(x) - x\n",
    "        g(x) = e^-x - x^2\n",
    "        h(x) = x^5 - 3x^2 + x - 4 '''\n",
    "    end = time.time()  # Stop the timer\n",
    "    print('The execution time was:', end - start)  # Print the time it took to execute the entire code\n"
   ]
  }
 ],
 "metadata": {
  "kernelspec": {
   "display_name": "Python 3 (ipykernel)",
   "language": "python",
   "name": "python3"
  },
  "language_info": {
   "codemirror_mode": {
    "name": "ipython",
    "version": 3
   },
   "file_extension": ".py",
   "mimetype": "text/x-python",
   "name": "python",
   "nbconvert_exporter": "python",
   "pygments_lexer": "ipython3",
   "version": "3.10.12"
  }
 },
 "nbformat": 4,
 "nbformat_minor": 5
}
