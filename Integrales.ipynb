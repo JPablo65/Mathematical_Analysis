{
 "cells": [
  {
   "cell_type": "markdown",
   "metadata": {},
   "source": [
    "Este es el código con las aproximaciones de integrales "
   ]
  },
  {
   "cell_type": "markdown",
   "metadata": {},
   "source": [
    "#### Importemos librerias "
   ]
  },
  {
   "cell_type": "code",
   "execution_count": 1,
   "metadata": {},
   "outputs": [],
   "source": [
    "import math "
   ]
  },
  {
   "attachments": {},
   "cell_type": "markdown",
   "metadata": {},
   "source": [
    "Esta es la regla de simposn "
   ]
  },
  {
   "cell_type": "code",
   "execution_count": 2,
   "metadata": {},
   "outputs": [],
   "source": [
    "def simpson_rule(f, a, b, n):\n",
    "    y = lambda x: eval(f)\n",
    "    if n % 2 != 0:\n",
    "        raise ValueError(\"The number of subintervals (n) must be an even number.\")\n",
    "\n",
    "    h = (b - a) / n\n",
    "    summation = y(a) + y(b)\n",
    "\n",
    "    for i in range(1, n):\n",
    "        x = a + i * h\n",
    "        if i % 2 == 0:\n",
    "            summation += 2 * y(x)\n",
    "        else:\n",
    "            summation += 4 * y(x)\n",
    "\n",
    "    return (h / 3) * summation"
   ]
  },
  {
   "cell_type": "markdown",
   "metadata": {},
   "source": [
    "#### Aquí va a estar la regla del trapecio"
   ]
  },
  {
   "cell_type": "code",
   "execution_count": 3,
   "metadata": {},
   "outputs": [],
   "source": [
    "def trapezoidal_rule(f, a, b, n):\n",
    "    y = lambda x: eval(f)\n",
    "    h = (b - a) / n\n",
    "    summation = (y(a) + y(b)) / 2\n",
    "\n",
    "    for i in range(1, n):\n",
    "        x = a + i * h\n",
    "        summation += y(x)\n",
    "\n",
    "    return h * summation"
   ]
  },
  {
   "cell_type": "markdown",
   "metadata": {},
   "source": [
    "#### La parte principal del codigo "
   ]
  },
  {
   "cell_type": "code",
   "execution_count": 5,
   "metadata": {},
   "outputs": [
    {
     "name": "stdout",
     "output_type": "stream",
     "text": [
      "Aproximación de la integral definida con Simpson: 9.0\n",
      "Aproximación de la integral definida con trapecio: 9.0\n"
     ]
    }
   ],
   "source": [
    "if __name__ == '__main__':\n",
    "    # Example usage: Approximation of the definite integral of x^2 in [0, 1]\n",
    "    \n",
    "    f = 'x**2'\n",
    "    example_function = lambda x: eval(f)\n",
    "\n",
    "    a = 0\n",
    "    b = 3\n",
    "    n = 175000  # Number of subintervals (must be even)\n",
    "\n",
    "    print(\"Approximation of the definite integral using Simpson's rule:\", round(simpson_rule(f, a, b, n), 5))\n",
    "    print(\"Approximation of the definite integral using the Trapezoidal rule:\", round(trapezoidal_rule(f, a, b, n), 5))\n"
   ]
  },
  {
   "cell_type": "code",
   "execution_count": null,
   "metadata": {},
   "outputs": [],
   "source": []
  }
 ],
 "metadata": {
  "kernelspec": {
   "display_name": "Python 3 (ipykernel)",
   "language": "python",
   "name": "python3"
  },
  "language_info": {
   "codemirror_mode": {
    "name": "ipython",
    "version": 3
   },
   "file_extension": ".py",
   "mimetype": "text/x-python",
   "name": "python",
   "nbconvert_exporter": "python",
   "pygments_lexer": "ipython3",
   "version": "3.10.12"
  }
 },
 "nbformat": 4,
 "nbformat_minor": 4
}
