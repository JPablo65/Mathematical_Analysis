{
 "cells": [
  {
   "cell_type": "markdown",
   "metadata": {},
   "source": [
    "Lets do this think with prime numbers"
   ]
  },
  {
   "cell_type": "markdown",
   "metadata": {},
   "source": [
    "#### Import the libraries "
   ]
  },
  {
   "cell_type": "code",
   "execution_count": null,
   "metadata": {},
   "outputs": [],
   "source": [
    "from math import sqrt\n",
    "import numpy as np"
   ]
  },
  {
   "cell_type": "markdown",
   "metadata": {},
   "source": [
    "#### The function to determinat if something is prime or not"
   ]
  },
  {
   "cell_type": "code",
   "execution_count": null,
   "metadata": {},
   "outputs": [],
   "source": [
    "def is_prime(x):\n",
    "    if x != 2:\n",
    "        for i in range(2, int(sqrt(x)) + 1):\n",
    "            if x % i == 0:\n",
    "                return 'Not prime'\n",
    "        return 'Is prime'\n",
    "    else:\n",
    "        return 'Is prime'"
   ]
  },
  {
   "cell_type": "markdown",
   "metadata": {},
   "source": [
    "#### The function to get the multiples"
   ]
  },
  {
   "cell_type": "code",
   "execution_count": null,
   "metadata": {},
   "outputs": [],
   "source": [
    "def multiples(x):\n",
    "    result = []\n",
    "    aux = x\n",
    "    i = 2\n",
    "    while is_prime(aux) == 'Not prime':\n",
    "        if is_prime(i) == 'Is prime':\n",
    "            if aux % i == 0:\n",
    "                result.append(i)\n",
    "                aux = aux / i\n",
    "                while aux % i == 0:\n",
    "                    result.append(i)\n",
    "                    aux = aux / i\n",
    "        i += 1\n",
    "    if aux != 1:\n",
    "        result.append(aux)\n",
    "    return result"
   ]
  },
  {
   "cell_type": "code",
   "execution_count": null,
   "metadata": {},
   "outputs": [],
   "source": [
    "def express_powers(lst):\n",
    "    counter = []\n",
    "    for i in np.unique(np.array(lst)):\n",
    "        count = lst.count(i)    \n",
    "        if count > 1:\n",
    "            counter.append(f'{int(i)}^{count}') \n",
    "        else:\n",
    "            counter.append(int(i))\n",
    "    string = str(counter[0])\n",
    "    for i in counter[1:]:\n",
    "        string = string + ' * ' + str(i)\n",
    "    return string"
   ]
  },
  {
   "cell_type": "markdown",
   "metadata": {},
   "source": [
    "#### Create a list of prime numbers"
   ]
  },
  {
   "cell_type": "code",
   "execution_count": null,
   "metadata": {},
   "outputs": [],
   "source": [
    "def prime_list(limit):\n",
    "    result = []\n",
    "    for i in range(2, limit):\n",
    "        if is_prime(i) == 'Is prime':\n",
    "            result.append(i)\n",
    "    return result"
   ]
  },
  {
   "cell_type": "markdown",
   "metadata": {},
   "source": [
    "#### The main part "
   ]
  },
  {
   "cell_type": "code",
   "execution_count": null,
   "metadata": {},
   "outputs": [],
   "source": [
    "if __name__ == '__main__':\n",
    "    print('''Enter what you want to do using the number:\n",
    "    1.- Check if a number is prime or not\n",
    "    2.- Calculate a list of prime numbers and upload them to a Google Sheet\n",
    "    3.- Calculate the multiples of a number\\n''')\n",
    "    \n",
    "    command = '2' #input()\n",
    "    \n",
    "    if command in ['1', '2', '3']:\n",
    "        try:\n",
    "            x = '50000' #input('Enter the number')\n",
    "            y = lambda x: eval(x)\n",
    "            x = y(x)\n",
    "            \n",
    "            if command == '1':\n",
    "                print(f'The number {x} is {is_prime(x)}')\n",
    "            \n",
    "            if command == '2':\n",
    "                answer = prime_list(x)\n",
    "                for i in range(0, len(answer), 5):\n",
    "                    print(answer[i: i + 5])\n",
    "            \n",
    "            if command == '3':\n",
    "                print(f'The number {x} can be expressed as: {express_powers(multiples(x))}')\n",
    "        \n",
    "        except:\n",
    "            print('I think you did not enter a valid number')\n",
    "    else:\n",
    "        print(\"I think you did not enter a valid option\")"
   ]
  }
 ],
 "metadata": {
  "kernelspec": {
   "display_name": "TSC_aventure",
   "language": "python",
   "name": "python3"
  },
  "language_info": {
   "codemirror_mode": {
    "name": "ipython",
    "version": 3
   },
   "file_extension": ".py",
   "mimetype": "text/x-python",
   "name": "python",
   "nbconvert_exporter": "python",
   "pygments_lexer": "ipython3",
   "version": "3.10.12"
  },
  "orig_nbformat": 4
 },
 "nbformat": 4,
 "nbformat_minor": 2
}
